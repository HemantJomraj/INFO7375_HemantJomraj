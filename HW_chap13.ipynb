{
  "nbformat": 4,
  "nbformat_minor": 0,
  "metadata": {
    "colab": {
      "provenance": []
    },
    "kernelspec": {
      "name": "python3",
      "display_name": "Python 3"
    },
    "language_info": {
      "name": "python"
    }
  },
  "cells": [
    {
      "cell_type": "code",
      "execution_count": 3,
      "metadata": {
        "colab": {
          "base_uri": "https://localhost:8080/"
        },
        "id": "LANwte7CLwZ3",
        "outputId": "3c937d07-a7b8-4813-8fcc-f87f68381081"
      },
      "outputs": [
        {
          "output_type": "stream",
          "name": "stdout",
          "text": [
            "[18, 6, 6, 6]\n",
            "[-1, 6, 25, 6]\n",
            "[-16, 9, 22, 6]\n",
            "[-28, 9, 22, -24]\n"
          ]
        }
      ],
      "source": [
        "class Convolution2D:\n",
        "    def __init__(self, kernel):\n",
        "        self.kernel = kernel\n",
        "        self.kernel_size = len(kernel)\n",
        "\n",
        "    def apply(self, image):\n",
        "\n",
        "        image_height = len(image)\n",
        "        image_width = len(image[0])\n",
        "        output_height = image_height - self.kernel_size + 1\n",
        "        output_width = image_width - self.kernel_size + 1\n",
        "\n",
        "        # Initialize the output image with zeros.\n",
        "        output = [[0 for _ in range(output_width)] for _ in range(output_height)]\n",
        "\n",
        "        # Perform convolution (without padding and striding)\n",
        "        for i in range(output_height):\n",
        "            for j in range(output_width):\n",
        "                # Apply the kernel on the current region of the image.\n",
        "                for ki in range(self.kernel_size):\n",
        "                    for kj in range(self.kernel_size):\n",
        "                        output[i][j] += image[i+ki][j+kj] * self.kernel[ki][kj]\n",
        "\n",
        "        return output\n",
        "\n",
        "if __name__ == \"__main__\":\n",
        "    # Define a 6x6 image (as a 2D list).\n",
        "    image = [\n",
        "        [1, 2, 3, 4, 5, 6],\n",
        "        [7, 8, 9, 10, 11, 12],\n",
        "        [1, 14, 15, 16, 17, 18],\n",
        "        [19, 20, 2, 22, 23, 24],\n",
        "        [25, 23, 12, 28, 11, 30],\n",
        "        [1, 32, 3, 34, 5, 6]\n",
        "    ]\n",
        "\n",
        "    # Define a 3x3 filter (kernel).\n",
        "    kernel = [\n",
        "        [-1, 0, 1],\n",
        "        [-1, 0, 1],\n",
        "        [-1, 0, 1]\n",
        "    ]\n",
        "\n",
        "    conv = Convolution2D(kernel)\n",
        "    output_image = conv.apply(image)\n",
        "\n",
        "    for row in output_image:\n",
        "        print(row)\n"
      ]
    }
  ]
}